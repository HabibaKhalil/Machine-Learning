{
 "cells": [
  {
   "cell_type": "code",
   "execution_count": 1,
   "metadata": {},
   "outputs": [],
   "source": [
    "import pandas as pd\n",
    "import numpy as np\n",
    "import matplotlib.pyplot as plt\n",
    "import seaborn as sns \n",
    "from sklearn.preprocessing import OneHotEncoder\n",
    "from sklearn import preprocessing\n",
    "from sklearn.metrics import mean_squared_error, r2_score\n",
    "from sklearn.model_selection import train_test_split\n",
    "from sklearn.preprocessing import PolynomialFeatures\n",
    "from sklearn.linear_model import LogisticRegression\n",
    "from sklearn.metrics import classification_report\n",
    "from sklearn.model_selection import KFold\n",
    "from sklearn.model_selection import StratifiedKFold\n",
    "from sklearn.model_selection import cross_val_score\n",
    "import math\n",
    "from sklearn.pipeline import make_pipeline\n",
    "from sklearn.preprocessing import StandardScaler\n",
    "from sklearn.svm import SVC\n",
    "from sklearn.metrics import precision_recall_fscore_support as score"
   ]
  },
  {
   "cell_type": "code",
   "execution_count": 2,
   "metadata": {},
   "outputs": [
    {
     "data": {
      "text/html": [
       "<div>\n",
       "<style scoped>\n",
       "    .dataframe tbody tr th:only-of-type {\n",
       "        vertical-align: middle;\n",
       "    }\n",
       "\n",
       "    .dataframe tbody tr th {\n",
       "        vertical-align: top;\n",
       "    }\n",
       "\n",
       "    .dataframe thead th {\n",
       "        text-align: right;\n",
       "    }\n",
       "</style>\n",
       "<table border=\"1\" class=\"dataframe\">\n",
       "  <thead>\n",
       "    <tr style=\"text-align: right;\">\n",
       "      <th></th>\n",
       "      <th>step</th>\n",
       "      <th>type</th>\n",
       "      <th>amount</th>\n",
       "      <th>nameOrig</th>\n",
       "      <th>oldbalanceOrg</th>\n",
       "      <th>newbalanceOrig</th>\n",
       "      <th>nameDest</th>\n",
       "      <th>oldbalanceDest</th>\n",
       "      <th>newbalanceDest</th>\n",
       "      <th>isFraud</th>\n",
       "      <th>isFlaggedFraud</th>\n",
       "    </tr>\n",
       "  </thead>\n",
       "  <tbody>\n",
       "    <tr>\n",
       "      <th>0</th>\n",
       "      <td>1</td>\n",
       "      <td>PAYMENT</td>\n",
       "      <td>9839.64</td>\n",
       "      <td>C1231006815</td>\n",
       "      <td>170136.0</td>\n",
       "      <td>160296.36</td>\n",
       "      <td>M1979787155</td>\n",
       "      <td>0.0</td>\n",
       "      <td>0.0</td>\n",
       "      <td>0</td>\n",
       "      <td>0</td>\n",
       "    </tr>\n",
       "    <tr>\n",
       "      <th>1</th>\n",
       "      <td>1</td>\n",
       "      <td>PAYMENT</td>\n",
       "      <td>1864.28</td>\n",
       "      <td>C1666544295</td>\n",
       "      <td>21249.0</td>\n",
       "      <td>19384.72</td>\n",
       "      <td>M2044282225</td>\n",
       "      <td>0.0</td>\n",
       "      <td>0.0</td>\n",
       "      <td>0</td>\n",
       "      <td>0</td>\n",
       "    </tr>\n",
       "    <tr>\n",
       "      <th>2</th>\n",
       "      <td>1</td>\n",
       "      <td>TRANSFER</td>\n",
       "      <td>181.00</td>\n",
       "      <td>C1305486145</td>\n",
       "      <td>181.0</td>\n",
       "      <td>0.00</td>\n",
       "      <td>C553264065</td>\n",
       "      <td>0.0</td>\n",
       "      <td>0.0</td>\n",
       "      <td>1</td>\n",
       "      <td>0</td>\n",
       "    </tr>\n",
       "    <tr>\n",
       "      <th>3</th>\n",
       "      <td>1</td>\n",
       "      <td>CASH_OUT</td>\n",
       "      <td>181.00</td>\n",
       "      <td>C840083671</td>\n",
       "      <td>181.0</td>\n",
       "      <td>0.00</td>\n",
       "      <td>C38997010</td>\n",
       "      <td>21182.0</td>\n",
       "      <td>0.0</td>\n",
       "      <td>1</td>\n",
       "      <td>0</td>\n",
       "    </tr>\n",
       "    <tr>\n",
       "      <th>4</th>\n",
       "      <td>1</td>\n",
       "      <td>PAYMENT</td>\n",
       "      <td>11668.14</td>\n",
       "      <td>C2048537720</td>\n",
       "      <td>41554.0</td>\n",
       "      <td>29885.86</td>\n",
       "      <td>M1230701703</td>\n",
       "      <td>0.0</td>\n",
       "      <td>0.0</td>\n",
       "      <td>0</td>\n",
       "      <td>0</td>\n",
       "    </tr>\n",
       "  </tbody>\n",
       "</table>\n",
       "</div>"
      ],
      "text/plain": [
       "   step      type    amount     nameOrig  oldbalanceOrg  newbalanceOrig  \\\n",
       "0     1   PAYMENT   9839.64  C1231006815       170136.0       160296.36   \n",
       "1     1   PAYMENT   1864.28  C1666544295        21249.0        19384.72   \n",
       "2     1  TRANSFER    181.00  C1305486145          181.0            0.00   \n",
       "3     1  CASH_OUT    181.00   C840083671          181.0            0.00   \n",
       "4     1   PAYMENT  11668.14  C2048537720        41554.0        29885.86   \n",
       "\n",
       "      nameDest  oldbalanceDest  newbalanceDest  isFraud  isFlaggedFraud  \n",
       "0  M1979787155             0.0             0.0        0               0  \n",
       "1  M2044282225             0.0             0.0        0               0  \n",
       "2   C553264065             0.0             0.0        1               0  \n",
       "3    C38997010         21182.0             0.0        1               0  \n",
       "4  M1230701703             0.0             0.0        0               0  "
      ]
     },
     "execution_count": 2,
     "metadata": {},
     "output_type": "execute_result"
    }
   ],
   "source": [
    "df=pd.read_csv(\"FraudTransactions.csv\")\n",
    "df.head()"
   ]
  },
  {
   "cell_type": "markdown",
   "metadata": {},
   "source": [
    "# Correlation Matrix and Sampling "
   ]
  },
  {
   "cell_type": "code",
   "execution_count": 3,
   "metadata": {
    "scrolled": true
   },
   "outputs": [
    {
     "data": {
      "text/plain": [
       "[Text(0.5, 1, 'Correlation Matrix')]"
      ]
     },
     "execution_count": 3,
     "metadata": {},
     "output_type": "execute_result"
    },
    {
     "data": {
      "image/png": "[encoded data removed]",
      "text/plain": [
       "<Figure size 864x720 with 2 Axes>"
      ]
     },
     "metadata": {
      "needs_background": "light"
     },
     "output_type": "display_data"
    }
   ],
   "source": [
    "corr = df.corr() \n",
    "plt.figure(figsize=(12,10))\n",
    "sns.heatmap(data=corr, annot=True, cmap='Spectral').set(title=\"Correlation Matrix\")"
   ]
  },
  {
   "cell_type": "raw",
   "metadata": {},
   "source": [
    "oldbalanceOrg and newbalanceOrig are highly correlated\n",
    "oldbalanceDestination and newbalanceDest are highly correlated\n"
   ]
  },
  {
   "cell_type": "code",
   "execution_count": 4,
   "metadata": {},
   "outputs": [
    {
     "name": "stdout",
     "output_type": "stream",
     "text": [
      "Ratio of each possible output in the target column:\n"
     ]
    },
    {
     "data": {
      "text/plain": [
       "0    99.870918\n",
       "1     0.129082\n",
       "Name: isFraud, dtype: float64"
      ]
     },
     "execution_count": 4,
     "metadata": {},
     "output_type": "execute_result"
    }
   ],
   "source": [
    "#percentages of 0 and 1\n",
    "print(\"Ratio of each possible output in the target column:\")\n",
    "(df['isFraud'].value_counts()/len(df))*100\n"
   ]
  },
  {
   "cell_type": "raw",
   "metadata": {},
   "source": [
    "Sampling could be done using df.sample or train_test_split stratified"
   ]
  },
  {
   "cell_type": "code",
   "execution_count": 5,
   "metadata": {},
   "outputs": [
    {
     "data": {
      "text/plain": [
       "(0    99.885267\n",
       " 1     0.114733\n",
       " Name: isFraud, dtype: float64,\n",
       " 127252)"
      ]
     },
     "execution_count": 5,
     "metadata": {},
     "output_type": "execute_result"
    }
   ],
   "source": [
    "df_new=df.sample(frac=0.02)\n",
    "(df_new['isFraud'].value_counts()/len(df_new))*100 , len(df_new)"
   ]
  },
  {
   "cell_type": "code",
   "execution_count": 6,
   "metadata": {},
   "outputs": [
    {
     "data": {
      "text/html": [
       "<div>\n",
       "<style scoped>\n",
       "    .dataframe tbody tr th:only-of-type {\n",
       "        vertical-align: middle;\n",
       "    }\n",
       "\n",
       "    .dataframe tbody tr th {\n",
       "        vertical-align: top;\n",
       "    }\n",
       "\n",
       "    .dataframe thead th {\n",
       "        text-align: right;\n",
       "    }\n",
       "</style>\n",
       "<table border=\"1\" class=\"dataframe\">\n",
       "  <thead>\n",
       "    <tr style=\"text-align: right;\">\n",
       "      <th></th>\n",
       "      <th>step</th>\n",
       "      <th>type</th>\n",
       "      <th>amount</th>\n",
       "      <th>nameOrig</th>\n",
       "      <th>oldbalanceOrg</th>\n",
       "      <th>newbalanceOrig</th>\n",
       "      <th>nameDest</th>\n",
       "      <th>oldbalanceDest</th>\n",
       "      <th>newbalanceDest</th>\n",
       "      <th>isFlaggedFraud</th>\n",
       "      <th>isFraud</th>\n",
       "    </tr>\n",
       "  </thead>\n",
       "  <tbody>\n",
       "    <tr>\n",
       "      <th>0</th>\n",
       "      <td>41</td>\n",
       "      <td>TRANSFER</td>\n",
       "      <td>494909.68</td>\n",
       "      <td>C975583086</td>\n",
       "      <td>15684.0</td>\n",
       "      <td>0.0</td>\n",
       "      <td>C1453858895</td>\n",
       "      <td>311958.31</td>\n",
       "      <td>806867.99</td>\n",
       "      <td>0</td>\n",
       "      <td>0</td>\n",
       "    </tr>\n",
       "    <tr>\n",
       "      <th>1</th>\n",
       "      <td>275</td>\n",
       "      <td>PAYMENT</td>\n",
       "      <td>9764.18</td>\n",
       "      <td>C2080559293</td>\n",
       "      <td>0.0</td>\n",
       "      <td>0.0</td>\n",
       "      <td>M337972713</td>\n",
       "      <td>0.0</td>\n",
       "      <td>0.0</td>\n",
       "      <td>0</td>\n",
       "      <td>0</td>\n",
       "    </tr>\n",
       "    <tr>\n",
       "      <th>2</th>\n",
       "      <td>133</td>\n",
       "      <td>CASH_OUT</td>\n",
       "      <td>251827.92</td>\n",
       "      <td>C1172997596</td>\n",
       "      <td>0.0</td>\n",
       "      <td>0.0</td>\n",
       "      <td>C1281270135</td>\n",
       "      <td>2158584.24</td>\n",
       "      <td>2106337.87</td>\n",
       "      <td>0</td>\n",
       "      <td>0</td>\n",
       "    </tr>\n",
       "    <tr>\n",
       "      <th>3</th>\n",
       "      <td>164</td>\n",
       "      <td>CASH_OUT</td>\n",
       "      <td>128310.83</td>\n",
       "      <td>C930424867</td>\n",
       "      <td>0.0</td>\n",
       "      <td>0.0</td>\n",
       "      <td>C519343215</td>\n",
       "      <td>1553258.67</td>\n",
       "      <td>1681569.49</td>\n",
       "      <td>0</td>\n",
       "      <td>0</td>\n",
       "    </tr>\n",
       "    <tr>\n",
       "      <th>4</th>\n",
       "      <td>40</td>\n",
       "      <td>PAYMENT</td>\n",
       "      <td>3313.12</td>\n",
       "      <td>C24830054</td>\n",
       "      <td>368178.43</td>\n",
       "      <td>364865.31</td>\n",
       "      <td>M1006775704</td>\n",
       "      <td>0.0</td>\n",
       "      <td>0.0</td>\n",
       "      <td>0</td>\n",
       "      <td>0</td>\n",
       "    </tr>\n",
       "  </tbody>\n",
       "</table>\n",
       "</div>"
      ],
      "text/plain": [
       "  step      type     amount     nameOrig oldbalanceOrg newbalanceOrig  \\\n",
       "0   41  TRANSFER  494909.68   C975583086       15684.0            0.0   \n",
       "1  275   PAYMENT    9764.18  C2080559293           0.0            0.0   \n",
       "2  133  CASH_OUT  251827.92  C1172997596           0.0            0.0   \n",
       "3  164  CASH_OUT  128310.83   C930424867           0.0            0.0   \n",
       "4   40   PAYMENT    3313.12    C24830054     368178.43      364865.31   \n",
       "\n",
       "      nameDest oldbalanceDest newbalanceDest isFlaggedFraud  isFraud  \n",
       "0  C1453858895      311958.31      806867.99              0        0  \n",
       "1   M337972713            0.0            0.0              0        0  \n",
       "2  C1281270135     2158584.24     2106337.87              0        0  \n",
       "3   C519343215     1553258.67     1681569.49              0        0  \n",
       "4  M1006775704            0.0            0.0              0        0  "
      ]
     },
     "execution_count": 6,
     "metadata": {},
     "output_type": "execute_result"
    }
   ],
   "source": [
    "new_dff=df.drop(\"isFraud\",axis=1)\n",
    "target=df[\"isFraud\"]\n",
    "X_df, X_df_remove, y_df, y_remove = train_test_split(np.array(new_dff),np.array(target),\n",
    "                                                        test_size=0.975,stratify=target)\n",
    "df=pd.DataFrame(X_df, columns=df.columns.drop('isFraud'))\n",
    "df=pd.concat([df,pd.Series(y_df).rename('isFraud')], axis=1)\n",
    "df.head()"
   ]
  },
  {
   "cell_type": "code",
   "execution_count": 7,
   "metadata": {},
   "outputs": [
    {
     "name": "stdout",
     "output_type": "stream",
     "text": [
      "Check that the same ratio is maintained after sampling: \n"
     ]
    },
    {
     "data": {
      "text/plain": [
       "(0    99.871122\n",
       " 1     0.128878\n",
       " Name: isFraud, dtype: float64,\n",
       " 159065)"
      ]
     },
     "execution_count": 7,
     "metadata": {},
     "output_type": "execute_result"
    }
   ],
   "source": [
    "print(\"Check that the same ratio is maintained after sampling: \")\n",
    "(df['isFraud'].value_counts()/len(df))*100 , len(df)"
   ]
  },
  {
   "cell_type": "markdown",
   "metadata": {},
   "source": [
    "train_test_split stratified is more accurate "
   ]
  },
  {
   "cell_type": "markdown",
   "metadata": {},
   "source": [
    "# Preprocessing"
   ]
  },
  {
   "cell_type": "code",
   "execution_count": 8,
   "metadata": {},
   "outputs": [
    {
     "name": "stdout",
     "output_type": "stream",
     "text": [
      "<class 'pandas.core.frame.DataFrame'>\n",
      "RangeIndex: 159065 entries, 0 to 159064\n",
      "Data columns (total 11 columns):\n",
      " #   Column          Non-Null Count   Dtype \n",
      "---  ------          --------------   ----- \n",
      " 0   step            159065 non-null  object\n",
      " 1   type            159065 non-null  object\n",
      " 2   amount          159065 non-null  object\n",
      " 3   nameOrig        159065 non-null  object\n",
      " 4   oldbalanceOrg   159065 non-null  object\n",
      " 5   newbalanceOrig  159065 non-null  object\n",
      " 6   nameDest        159065 non-null  object\n",
      " 7   oldbalanceDest  159065 non-null  object\n",
      " 8   newbalanceDest  159065 non-null  object\n",
      " 9   isFlaggedFraud  159065 non-null  object\n",
      " 10  isFraud         159065 non-null  int64 \n",
      "dtypes: int64(1), object(10)\n",
      "memory usage: 13.3+ MB\n"
     ]
    }
   ],
   "source": [
    "df.info()"
   ]
  },
  {
   "cell_type": "code",
   "execution_count": 9,
   "metadata": {},
   "outputs": [
    {
     "name": "stdout",
     "output_type": "stream",
     "text": [
      "Cardinality of column type:  5\n"
     ]
    }
   ],
   "source": [
    "print(\"Cardinality of column type: \",df['type'].nunique())"
   ]
  },
  {
   "cell_type": "code",
   "execution_count": 10,
   "metadata": {},
   "outputs": [
    {
     "name": "stdout",
     "output_type": "stream",
     "text": [
      "There are  5 types of transactions.\n"
     ]
    },
    {
     "data": {
      "text/plain": [
       "isFraud  type    \n",
       "0        CASH_OUT    55732\n",
       "         PAYMENT     53784\n",
       "         CASH_IN     35100\n",
       "         TRANSFER    13176\n",
       "         DEBIT        1068\n",
       "1        TRANSFER      103\n",
       "         CASH_OUT      102\n",
       "Name: type, dtype: int64"
      ]
     },
     "execution_count": 10,
     "metadata": {},
     "output_type": "execute_result"
    }
   ],
   "source": [
    "print(\"There are \", df['type'].nunique() , \"types of transactions.\")\n",
    "df['type'].groupby(df['isFraud']).value_counts()"
   ]
  },
  {
   "cell_type": "markdown",
   "metadata": {},
   "source": [
    "It seems like fraud transactions only occur from CASH_OUT and TRANSFER\n",
    "\n",
    "We can use 1 hot encoding k-1 to make the \"type\" column numerical instead of categorical"
   ]
  },
  {
   "cell_type": "code",
   "execution_count": 11,
   "metadata": {},
   "outputs": [
    {
     "name": "stdout",
     "output_type": "stream",
     "text": [
      "Looking only at the 1st character\n",
      "Cardinality of column nameOrig:  1\n",
      "Cardinality of column nameDest:  2\n"
     ]
    }
   ],
   "source": [
    "print(\"Looking only at the 1st character\")\n",
    "print(\"Cardinality of column nameOrig: \", df['nameOrig'].str[:1].nunique())\n",
    "print(\"Cardinality of column nameDest: \", df['nameDest'].str[:1].nunique())"
   ]
  },
  {
   "cell_type": "markdown",
   "metadata": {},
   "source": [
    "There is only one letter in nameOrig, doesn't affect the output\n",
    "The first letter in \"nameDest\" might be related to the output"
   ]
  },
  {
   "cell_type": "code",
   "execution_count": 12,
   "metadata": {},
   "outputs": [
    {
     "data": {
      "text/html": [
       "<div>\n",
       "<style scoped>\n",
       "    .dataframe tbody tr th:only-of-type {\n",
       "        vertical-align: middle;\n",
       "    }\n",
       "\n",
       "    .dataframe tbody tr th {\n",
       "        vertical-align: top;\n",
       "    }\n",
       "\n",
       "    .dataframe thead th {\n",
       "        text-align: right;\n",
       "    }\n",
       "</style>\n",
       "<table border=\"1\" class=\"dataframe\">\n",
       "  <thead>\n",
       "    <tr style=\"text-align: right;\">\n",
       "      <th></th>\n",
       "      <th>step</th>\n",
       "      <th>type</th>\n",
       "      <th>amount</th>\n",
       "      <th>nameOrig</th>\n",
       "      <th>oldbalanceOrg</th>\n",
       "      <th>newbalanceOrig</th>\n",
       "      <th>nameDest</th>\n",
       "      <th>oldbalanceDest</th>\n",
       "      <th>newbalanceDest</th>\n",
       "      <th>isFlaggedFraud</th>\n",
       "      <th>isFraud</th>\n",
       "      <th>nameDest_reduced</th>\n",
       "    </tr>\n",
       "  </thead>\n",
       "  <tbody>\n",
       "    <tr>\n",
       "      <th>0</th>\n",
       "      <td>41</td>\n",
       "      <td>TRANSFER</td>\n",
       "      <td>494909.68</td>\n",
       "      <td>C975583086</td>\n",
       "      <td>15684.0</td>\n",
       "      <td>0.0</td>\n",
       "      <td>C1453858895</td>\n",
       "      <td>311958.31</td>\n",
       "      <td>806867.99</td>\n",
       "      <td>0</td>\n",
       "      <td>0</td>\n",
       "      <td>C</td>\n",
       "    </tr>\n",
       "    <tr>\n",
       "      <th>1</th>\n",
       "      <td>275</td>\n",
       "      <td>PAYMENT</td>\n",
       "      <td>9764.18</td>\n",
       "      <td>C2080559293</td>\n",
       "      <td>0.0</td>\n",
       "      <td>0.0</td>\n",
       "      <td>M337972713</td>\n",
       "      <td>0.0</td>\n",
       "      <td>0.0</td>\n",
       "      <td>0</td>\n",
       "      <td>0</td>\n",
       "      <td>M</td>\n",
       "    </tr>\n",
       "    <tr>\n",
       "      <th>2</th>\n",
       "      <td>133</td>\n",
       "      <td>CASH_OUT</td>\n",
       "      <td>251827.92</td>\n",
       "      <td>C1172997596</td>\n",
       "      <td>0.0</td>\n",
       "      <td>0.0</td>\n",
       "      <td>C1281270135</td>\n",
       "      <td>2158584.24</td>\n",
       "      <td>2106337.87</td>\n",
       "      <td>0</td>\n",
       "      <td>0</td>\n",
       "      <td>C</td>\n",
       "    </tr>\n",
       "    <tr>\n",
       "      <th>3</th>\n",
       "      <td>164</td>\n",
       "      <td>CASH_OUT</td>\n",
       "      <td>128310.83</td>\n",
       "      <td>C930424867</td>\n",
       "      <td>0.0</td>\n",
       "      <td>0.0</td>\n",
       "      <td>C519343215</td>\n",
       "      <td>1553258.67</td>\n",
       "      <td>1681569.49</td>\n",
       "      <td>0</td>\n",
       "      <td>0</td>\n",
       "      <td>C</td>\n",
       "    </tr>\n",
       "    <tr>\n",
       "      <th>4</th>\n",
       "      <td>40</td>\n",
       "      <td>PAYMENT</td>\n",
       "      <td>3313.12</td>\n",
       "      <td>C24830054</td>\n",
       "      <td>368178.43</td>\n",
       "      <td>364865.31</td>\n",
       "      <td>M1006775704</td>\n",
       "      <td>0.0</td>\n",
       "      <td>0.0</td>\n",
       "      <td>0</td>\n",
       "      <td>0</td>\n",
       "      <td>M</td>\n",
       "    </tr>\n",
       "  </tbody>\n",
       "</table>\n",
       "</div>"
      ],
      "text/plain": [
       "  step      type     amount     nameOrig oldbalanceOrg newbalanceOrig  \\\n",
       "0   41  TRANSFER  494909.68   C975583086       15684.0            0.0   \n",
       "1  275   PAYMENT    9764.18  C2080559293           0.0            0.0   \n",
       "2  133  CASH_OUT  251827.92  C1172997596           0.0            0.0   \n",
       "3  164  CASH_OUT  128310.83   C930424867           0.0            0.0   \n",
       "4   40   PAYMENT    3313.12    C24830054     368178.43      364865.31   \n",
       "\n",
       "      nameDest oldbalanceDest newbalanceDest isFlaggedFraud  isFraud  \\\n",
       "0  C1453858895      311958.31      806867.99              0        0   \n",
       "1   M337972713            0.0            0.0              0        0   \n",
       "2  C1281270135     2158584.24     2106337.87              0        0   \n",
       "3   C519343215     1553258.67     1681569.49              0        0   \n",
       "4  M1006775704            0.0            0.0              0        0   \n",
       "\n",
       "  nameDest_reduced  \n",
       "0                C  \n",
       "1                M  \n",
       "2                C  \n",
       "3                C  \n",
       "4                M  "
      ]
     },
     "execution_count": 12,
     "metadata": {},
     "output_type": "execute_result"
    }
   ],
   "source": [
    "df['nameDest_reduced']=df['nameDest'].str[:1]\n",
    "df.head()"
   ]
  },
  {
   "cell_type": "code",
   "execution_count": 13,
   "metadata": {},
   "outputs": [
    {
     "data": {
      "text/plain": [
       "0    158860\n",
       "1       205\n",
       "Name: isFraud, dtype: int64"
      ]
     },
     "execution_count": 13,
     "metadata": {},
     "output_type": "execute_result"
    }
   ],
   "source": [
    "df[\"isFraud\"].value_counts()"
   ]
  },
  {
   "cell_type": "code",
   "execution_count": 14,
   "metadata": {},
   "outputs": [
    {
     "data": {
      "text/plain": [
       "isFraud  nameDest_reduced\n",
       "1        C                   205\n",
       "Name: nameDest_reduced, dtype: int64"
      ]
     },
     "execution_count": 14,
     "metadata": {},
     "output_type": "execute_result"
    }
   ],
   "source": [
    "#df['nameDest_reduced'].groupby(df['isFraud']).value_counts()\n",
    "only1=df[df[\"isFraud\"]==1]\n",
    "only1[\"nameDest_reduced\"].groupby(only1['isFraud']).value_counts()\n"
   ]
  },
  {
   "cell_type": "markdown",
   "metadata": {},
   "source": [
    "ALL Fraud Transaction occur when recipient of the transaction 'nameDest'= C"
   ]
  },
  {
   "cell_type": "markdown",
   "metadata": {},
   "source": [
    "# Apply one hot encoding on \"type\" and \"nameDest_reduced\" columns"
   ]
  },
  {
   "cell_type": "code",
   "execution_count": 15,
   "metadata": {},
   "outputs": [
    {
     "data": {
      "text/html": [
       "<div>\n",
       "<style scoped>\n",
       "    .dataframe tbody tr th:only-of-type {\n",
       "        vertical-align: middle;\n",
       "    }\n",
       "\n",
       "    .dataframe tbody tr th {\n",
       "        vertical-align: top;\n",
       "    }\n",
       "\n",
       "    .dataframe thead th {\n",
       "        text-align: right;\n",
       "    }\n",
       "</style>\n",
       "<table border=\"1\" class=\"dataframe\">\n",
       "  <thead>\n",
       "    <tr style=\"text-align: right;\">\n",
       "      <th></th>\n",
       "      <th>step</th>\n",
       "      <th>type</th>\n",
       "      <th>amount</th>\n",
       "      <th>oldbalanceOrg</th>\n",
       "      <th>newbalanceOrig</th>\n",
       "      <th>oldbalanceDest</th>\n",
       "      <th>newbalanceDest</th>\n",
       "      <th>isFlaggedFraud</th>\n",
       "      <th>isFraud</th>\n",
       "      <th>nameDest_reduced</th>\n",
       "    </tr>\n",
       "  </thead>\n",
       "  <tbody>\n",
       "    <tr>\n",
       "      <th>0</th>\n",
       "      <td>41</td>\n",
       "      <td>TRANSFER</td>\n",
       "      <td>494909.68</td>\n",
       "      <td>15684.0</td>\n",
       "      <td>0.0</td>\n",
       "      <td>311958.31</td>\n",
       "      <td>806867.99</td>\n",
       "      <td>0</td>\n",
       "      <td>0</td>\n",
       "      <td>C</td>\n",
       "    </tr>\n",
       "    <tr>\n",
       "      <th>1</th>\n",
       "      <td>275</td>\n",
       "      <td>PAYMENT</td>\n",
       "      <td>9764.18</td>\n",
       "      <td>0.0</td>\n",
       "      <td>0.0</td>\n",
       "      <td>0.0</td>\n",
       "      <td>0.0</td>\n",
       "      <td>0</td>\n",
       "      <td>0</td>\n",
       "      <td>M</td>\n",
       "    </tr>\n",
       "    <tr>\n",
       "      <th>2</th>\n",
       "      <td>133</td>\n",
       "      <td>CASH_OUT</td>\n",
       "      <td>251827.92</td>\n",
       "      <td>0.0</td>\n",
       "      <td>0.0</td>\n",
       "      <td>2158584.24</td>\n",
       "      <td>2106337.87</td>\n",
       "      <td>0</td>\n",
       "      <td>0</td>\n",
       "      <td>C</td>\n",
       "    </tr>\n",
       "    <tr>\n",
       "      <th>3</th>\n",
       "      <td>164</td>\n",
       "      <td>CASH_OUT</td>\n",
       "      <td>128310.83</td>\n",
       "      <td>0.0</td>\n",
       "      <td>0.0</td>\n",
       "      <td>1553258.67</td>\n",
       "      <td>1681569.49</td>\n",
       "      <td>0</td>\n",
       "      <td>0</td>\n",
       "      <td>C</td>\n",
       "    </tr>\n",
       "    <tr>\n",
       "      <th>4</th>\n",
       "      <td>40</td>\n",
       "      <td>PAYMENT</td>\n",
       "      <td>3313.12</td>\n",
       "      <td>368178.43</td>\n",
       "      <td>364865.31</td>\n",
       "      <td>0.0</td>\n",
       "      <td>0.0</td>\n",
       "      <td>0</td>\n",
       "      <td>0</td>\n",
       "      <td>M</td>\n",
       "    </tr>\n",
       "  </tbody>\n",
       "</table>\n",
       "</div>"
      ],
      "text/plain": [
       "  step      type     amount oldbalanceOrg newbalanceOrig oldbalanceDest  \\\n",
       "0   41  TRANSFER  494909.68       15684.0            0.0      311958.31   \n",
       "1  275   PAYMENT    9764.18           0.0            0.0            0.0   \n",
       "2  133  CASH_OUT  251827.92           0.0            0.0     2158584.24   \n",
       "3  164  CASH_OUT  128310.83           0.0            0.0     1553258.67   \n",
       "4   40   PAYMENT    3313.12     368178.43      364865.31            0.0   \n",
       "\n",
       "  newbalanceDest isFlaggedFraud  isFraud nameDest_reduced  \n",
       "0      806867.99              0        0                C  \n",
       "1            0.0              0        0                M  \n",
       "2     2106337.87              0        0                C  \n",
       "3     1681569.49              0        0                C  \n",
       "4            0.0              0        0                M  "
      ]
     },
     "execution_count": 15,
     "metadata": {},
     "output_type": "execute_result"
    }
   ],
   "source": [
    "new_df=df.drop([\"nameOrig\",\"nameDest\"], axis=1)\n",
    "new_df.head()"
   ]
  },
  {
   "cell_type": "code",
   "execution_count": 16,
   "metadata": {},
   "outputs": [
    {
     "data": {
      "text/html": [
       "<div>\n",
       "<style scoped>\n",
       "    .dataframe tbody tr th:only-of-type {\n",
       "        vertical-align: middle;\n",
       "    }\n",
       "\n",
       "    .dataframe tbody tr th {\n",
       "        vertical-align: top;\n",
       "    }\n",
       "\n",
       "    .dataframe thead th {\n",
       "        text-align: right;\n",
       "    }\n",
       "</style>\n",
       "<table border=\"1\" class=\"dataframe\">\n",
       "  <thead>\n",
       "    <tr style=\"text-align: right;\">\n",
       "      <th></th>\n",
       "      <th>CASH_OUT</th>\n",
       "      <th>DEBIT</th>\n",
       "      <th>PAYMENT</th>\n",
       "      <th>TRANSFER</th>\n",
       "    </tr>\n",
       "  </thead>\n",
       "  <tbody>\n",
       "    <tr>\n",
       "      <th>0</th>\n",
       "      <td>0</td>\n",
       "      <td>0</td>\n",
       "      <td>0</td>\n",
       "      <td>1</td>\n",
       "    </tr>\n",
       "    <tr>\n",
       "      <th>1</th>\n",
       "      <td>0</td>\n",
       "      <td>0</td>\n",
       "      <td>1</td>\n",
       "      <td>0</td>\n",
       "    </tr>\n",
       "    <tr>\n",
       "      <th>2</th>\n",
       "      <td>1</td>\n",
       "      <td>0</td>\n",
       "      <td>0</td>\n",
       "      <td>0</td>\n",
       "    </tr>\n",
       "    <tr>\n",
       "      <th>3</th>\n",
       "      <td>1</td>\n",
       "      <td>0</td>\n",
       "      <td>0</td>\n",
       "      <td>0</td>\n",
       "    </tr>\n",
       "    <tr>\n",
       "      <th>4</th>\n",
       "      <td>0</td>\n",
       "      <td>0</td>\n",
       "      <td>1</td>\n",
       "      <td>0</td>\n",
       "    </tr>\n",
       "  </tbody>\n",
       "</table>\n",
       "</div>"
      ],
      "text/plain": [
       "   CASH_OUT  DEBIT  PAYMENT  TRANSFER\n",
       "0         0      0        0         1\n",
       "1         0      0        1         0\n",
       "2         1      0        0         0\n",
       "3         1      0        0         0\n",
       "4         0      0        1         0"
      ]
     },
     "execution_count": 16,
     "metadata": {},
     "output_type": "execute_result"
    }
   ],
   "source": [
    "type_dummy=pd.get_dummies(new_df['type'],drop_first=True)\n",
    "type_dummy.head()"
   ]
  },
  {
   "cell_type": "code",
   "execution_count": 17,
   "metadata": {},
   "outputs": [
    {
     "data": {
      "text/html": [
       "<div>\n",
       "<style scoped>\n",
       "    .dataframe tbody tr th:only-of-type {\n",
       "        vertical-align: middle;\n",
       "    }\n",
       "\n",
       "    .dataframe tbody tr th {\n",
       "        vertical-align: top;\n",
       "    }\n",
       "\n",
       "    .dataframe thead th {\n",
       "        text-align: right;\n",
       "    }\n",
       "</style>\n",
       "<table border=\"1\" class=\"dataframe\">\n",
       "  <thead>\n",
       "    <tr style=\"text-align: right;\">\n",
       "      <th></th>\n",
       "      <th>M</th>\n",
       "    </tr>\n",
       "  </thead>\n",
       "  <tbody>\n",
       "    <tr>\n",
       "      <th>0</th>\n",
       "      <td>0</td>\n",
       "    </tr>\n",
       "    <tr>\n",
       "      <th>1</th>\n",
       "      <td>1</td>\n",
       "    </tr>\n",
       "    <tr>\n",
       "      <th>2</th>\n",
       "      <td>0</td>\n",
       "    </tr>\n",
       "    <tr>\n",
       "      <th>3</th>\n",
       "      <td>0</td>\n",
       "    </tr>\n",
       "    <tr>\n",
       "      <th>4</th>\n",
       "      <td>1</td>\n",
       "    </tr>\n",
       "  </tbody>\n",
       "</table>\n",
       "</div>"
      ],
      "text/plain": [
       "   M\n",
       "0  0\n",
       "1  1\n",
       "2  0\n",
       "3  0\n",
       "4  1"
      ]
     },
     "execution_count": 17,
     "metadata": {},
     "output_type": "execute_result"
    }
   ],
   "source": [
    "Dest_dummy=pd.get_dummies(new_df['nameDest_reduced'],drop_first=True)\n",
    "Dest_dummy.head()"
   ]
  },
  {
   "cell_type": "code",
   "execution_count": 18,
   "metadata": {},
   "outputs": [
    {
     "data": {
      "text/html": [
       "<div>\n",
       "<style scoped>\n",
       "    .dataframe tbody tr th:only-of-type {\n",
       "        vertical-align: middle;\n",
       "    }\n",
       "\n",
       "    .dataframe tbody tr th {\n",
       "        vertical-align: top;\n",
       "    }\n",
       "\n",
       "    .dataframe thead th {\n",
       "        text-align: right;\n",
       "    }\n",
       "</style>\n",
       "<table border=\"1\" class=\"dataframe\">\n",
       "  <thead>\n",
       "    <tr style=\"text-align: right;\">\n",
       "      <th></th>\n",
       "      <th>step</th>\n",
       "      <th>type</th>\n",
       "      <th>amount</th>\n",
       "      <th>oldbalanceOrg</th>\n",
       "      <th>newbalanceOrig</th>\n",
       "      <th>oldbalanceDest</th>\n",
       "      <th>newbalanceDest</th>\n",
       "      <th>isFlaggedFraud</th>\n",
       "      <th>isFraud</th>\n",
       "      <th>nameDest_reduced</th>\n",
       "      <th>CASH_OUT</th>\n",
       "      <th>DEBIT</th>\n",
       "      <th>PAYMENT</th>\n",
       "      <th>TRANSFER</th>\n",
       "      <th>M</th>\n",
       "    </tr>\n",
       "  </thead>\n",
       "  <tbody>\n",
       "    <tr>\n",
       "      <th>0</th>\n",
       "      <td>41</td>\n",
       "      <td>TRANSFER</td>\n",
       "      <td>494909.68</td>\n",
       "      <td>15684.0</td>\n",
       "      <td>0.0</td>\n",
       "      <td>311958.31</td>\n",
       "      <td>806867.99</td>\n",
       "      <td>0</td>\n",
       "      <td>0</td>\n",
       "      <td>C</td>\n",
       "      <td>0</td>\n",
       "      <td>0</td>\n",
       "      <td>0</td>\n",
       "      <td>1</td>\n",
       "      <td>0</td>\n",
       "    </tr>\n",
       "    <tr>\n",
       "      <th>1</th>\n",
       "      <td>275</td>\n",
       "      <td>PAYMENT</td>\n",
       "      <td>9764.18</td>\n",
       "      <td>0.0</td>\n",
       "      <td>0.0</td>\n",
       "      <td>0.0</td>\n",
       "      <td>0.0</td>\n",
       "      <td>0</td>\n",
       "      <td>0</td>\n",
       "      <td>M</td>\n",
       "      <td>0</td>\n",
       "      <td>0</td>\n",
       "      <td>1</td>\n",
       "      <td>0</td>\n",
       "      <td>1</td>\n",
       "    </tr>\n",
       "    <tr>\n",
       "      <th>2</th>\n",
       "      <td>133</td>\n",
       "      <td>CASH_OUT</td>\n",
       "      <td>251827.92</td>\n",
       "      <td>0.0</td>\n",
       "      <td>0.0</td>\n",
       "      <td>2158584.24</td>\n",
       "      <td>2106337.87</td>\n",
       "      <td>0</td>\n",
       "      <td>0</td>\n",
       "      <td>C</td>\n",
       "      <td>1</td>\n",
       "      <td>0</td>\n",
       "      <td>0</td>\n",
       "      <td>0</td>\n",
       "      <td>0</td>\n",
       "    </tr>\n",
       "    <tr>\n",
       "      <th>3</th>\n",
       "      <td>164</td>\n",
       "      <td>CASH_OUT</td>\n",
       "      <td>128310.83</td>\n",
       "      <td>0.0</td>\n",
       "      <td>0.0</td>\n",
       "      <td>1553258.67</td>\n",
       "      <td>1681569.49</td>\n",
       "      <td>0</td>\n",
       "      <td>0</td>\n",
       "      <td>C</td>\n",
       "      <td>1</td>\n",
       "      <td>0</td>\n",
       "      <td>0</td>\n",
       "      <td>0</td>\n",
       "      <td>0</td>\n",
       "    </tr>\n",
       "    <tr>\n",
       "      <th>4</th>\n",
       "      <td>40</td>\n",
       "      <td>PAYMENT</td>\n",
       "      <td>3313.12</td>\n",
       "      <td>368178.43</td>\n",
       "      <td>364865.31</td>\n",
       "      <td>0.0</td>\n",
       "      <td>0.0</td>\n",
       "      <td>0</td>\n",
       "      <td>0</td>\n",
       "      <td>M</td>\n",
       "      <td>0</td>\n",
       "      <td>0</td>\n",
       "      <td>1</td>\n",
       "      <td>0</td>\n",
       "      <td>1</td>\n",
       "    </tr>\n",
       "  </tbody>\n",
       "</table>\n",
       "</div>"
      ],
      "text/plain": [
       "  step      type     amount oldbalanceOrg newbalanceOrig oldbalanceDest  \\\n",
       "0   41  TRANSFER  494909.68       15684.0            0.0      311958.31   \n",
       "1  275   PAYMENT    9764.18           0.0            0.0            0.0   \n",
       "2  133  CASH_OUT  251827.92           0.0            0.0     2158584.24   \n",
       "3  164  CASH_OUT  128310.83           0.0            0.0     1553258.67   \n",
       "4   40   PAYMENT    3313.12     368178.43      364865.31            0.0   \n",
       "\n",
       "  newbalanceDest isFlaggedFraud  isFraud nameDest_reduced  CASH_OUT  DEBIT  \\\n",
       "0      806867.99              0        0                C         0      0   \n",
       "1            0.0              0        0                M         0      0   \n",
       "2     2106337.87              0        0                C         1      0   \n",
       "3     1681569.49              0        0                C         1      0   \n",
       "4            0.0              0        0                M         0      0   \n",
       "\n",
       "   PAYMENT  TRANSFER  M  \n",
       "0        0         1  0  \n",
       "1        1         0  1  \n",
       "2        0         0  0  \n",
       "3        0         0  0  \n",
       "4        1         0  1  "
      ]
     },
     "execution_count": 18,
     "metadata": {},
     "output_type": "execute_result"
    }
   ],
   "source": [
    "NumericalDataset = pd.concat([new_df,type_dummy],axis=1)\n",
    "NumericalDataset = pd.concat([NumericalDataset,Dest_dummy],axis=1)\n",
    "NumericalDataset.head()"
   ]
  },
  {
   "cell_type": "code",
   "execution_count": 19,
   "metadata": {},
   "outputs": [
    {
     "data": {
      "text/html": [
       "<div>\n",
       "<style scoped>\n",
       "    .dataframe tbody tr th:only-of-type {\n",
       "        vertical-align: middle;\n",
       "    }\n",
       "\n",
       "    .dataframe tbody tr th {\n",
       "        vertical-align: top;\n",
       "    }\n",
       "\n",
       "    .dataframe thead th {\n",
       "        text-align: right;\n",
       "    }\n",
       "</style>\n",
       "<table border=\"1\" class=\"dataframe\">\n",
       "  <thead>\n",
       "    <tr style=\"text-align: right;\">\n",
       "      <th></th>\n",
       "      <th>step</th>\n",
       "      <th>amount</th>\n",
       "      <th>oldbalanceOrg</th>\n",
       "      <th>newbalanceOrig</th>\n",
       "      <th>oldbalanceDest</th>\n",
       "      <th>newbalanceDest</th>\n",
       "      <th>isFlaggedFraud</th>\n",
       "      <th>isFraud</th>\n",
       "      <th>CASH_OUT</th>\n",
       "      <th>DEBIT</th>\n",
       "      <th>PAYMENT</th>\n",
       "      <th>TRANSFER</th>\n",
       "      <th>M</th>\n",
       "    </tr>\n",
       "  </thead>\n",
       "  <tbody>\n",
       "    <tr>\n",
       "      <th>0</th>\n",
       "      <td>41</td>\n",
       "      <td>494909.68</td>\n",
       "      <td>15684.0</td>\n",
       "      <td>0.0</td>\n",
       "      <td>311958.31</td>\n",
       "      <td>806867.99</td>\n",
       "      <td>0</td>\n",
       "      <td>0</td>\n",
       "      <td>0</td>\n",
       "      <td>0</td>\n",
       "      <td>0</td>\n",
       "      <td>1</td>\n",
       "      <td>0</td>\n",
       "    </tr>\n",
       "    <tr>\n",
       "      <th>1</th>\n",
       "      <td>275</td>\n",
       "      <td>9764.18</td>\n",
       "      <td>0.0</td>\n",
       "      <td>0.0</td>\n",
       "      <td>0.0</td>\n",
       "      <td>0.0</td>\n",
       "      <td>0</td>\n",
       "      <td>0</td>\n",
       "      <td>0</td>\n",
       "      <td>0</td>\n",
       "      <td>1</td>\n",
       "      <td>0</td>\n",
       "      <td>1</td>\n",
       "    </tr>\n",
       "    <tr>\n",
       "      <th>2</th>\n",
       "      <td>133</td>\n",
       "      <td>251827.92</td>\n",
       "      <td>0.0</td>\n",
       "      <td>0.0</td>\n",
       "      <td>2158584.24</td>\n",
       "      <td>2106337.87</td>\n",
       "      <td>0</td>\n",
       "      <td>0</td>\n",
       "      <td>1</td>\n",
       "      <td>0</td>\n",
       "      <td>0</td>\n",
       "      <td>0</td>\n",
       "      <td>0</td>\n",
       "    </tr>\n",
       "    <tr>\n",
       "      <th>3</th>\n",
       "      <td>164</td>\n",
       "      <td>128310.83</td>\n",
       "      <td>0.0</td>\n",
       "      <td>0.0</td>\n",
       "      <td>1553258.67</td>\n",
       "      <td>1681569.49</td>\n",
       "      <td>0</td>\n",
       "      <td>0</td>\n",
       "      <td>1</td>\n",
       "      <td>0</td>\n",
       "      <td>0</td>\n",
       "      <td>0</td>\n",
       "      <td>0</td>\n",
       "    </tr>\n",
       "    <tr>\n",
       "      <th>4</th>\n",
       "      <td>40</td>\n",
       "      <td>3313.12</td>\n",
       "      <td>368178.43</td>\n",
       "      <td>364865.31</td>\n",
       "      <td>0.0</td>\n",
       "      <td>0.0</td>\n",
       "      <td>0</td>\n",
       "      <td>0</td>\n",
       "      <td>0</td>\n",
       "      <td>0</td>\n",
       "      <td>1</td>\n",
       "      <td>0</td>\n",
       "      <td>1</td>\n",
       "    </tr>\n",
       "  </tbody>\n",
       "</table>\n",
       "</div>"
      ],
      "text/plain": [
       "  step     amount oldbalanceOrg newbalanceOrig oldbalanceDest newbalanceDest  \\\n",
       "0   41  494909.68       15684.0            0.0      311958.31      806867.99   \n",
       "1  275    9764.18           0.0            0.0            0.0            0.0   \n",
       "2  133  251827.92           0.0            0.0     2158584.24     2106337.87   \n",
       "3  164  128310.83           0.0            0.0     1553258.67     1681569.49   \n",
       "4   40    3313.12     368178.43      364865.31            0.0            0.0   \n",
       "\n",
       "  isFlaggedFraud  isFraud  CASH_OUT  DEBIT  PAYMENT  TRANSFER  M  \n",
       "0              0        0         0      0        0         1  0  \n",
       "1              0        0         0      0        1         0  1  \n",
       "2              0        0         1      0        0         0  0  \n",
       "3              0        0         1      0        0         0  0  \n",
       "4              0        0         0      0        1         0  1  "
      ]
     },
     "execution_count": 19,
     "metadata": {},
     "output_type": "execute_result"
    }
   ],
   "source": [
    "NumericalDataset=NumericalDataset.drop([\"type\",\"nameDest_reduced\"], axis=1)\n",
    "NumericalDataset.head()"
   ]
  },
  {
   "cell_type": "code",
   "execution_count": 20,
   "metadata": {},
   "outputs": [
    {
     "data": {
      "text/plain": [
       "step              object\n",
       "amount            object\n",
       "oldbalanceOrg     object\n",
       "newbalanceOrig    object\n",
       "oldbalanceDest    object\n",
       "newbalanceDest    object\n",
       "isFlaggedFraud    object\n",
       "isFraud            int64\n",
       "CASH_OUT           uint8\n",
       "DEBIT              uint8\n",
       "PAYMENT            uint8\n",
       "TRANSFER           uint8\n",
       "M                  uint8\n",
       "dtype: object"
      ]
     },
     "execution_count": 20,
     "metadata": {},
     "output_type": "execute_result"
    }
   ],
   "source": [
    "NumericalDataset.dtypes"
   ]
  },
  {
   "cell_type": "markdown",
   "metadata": {},
   "source": [
    "# Normalize Data and Apply PCA"
   ]
  },
  {
   "cell_type": "code",
   "execution_count": 21,
   "metadata": {},
   "outputs": [
    {
     "data": {
      "text/html": [
       "<div>\n",
       "<style scoped>\n",
       "    .dataframe tbody tr th:only-of-type {\n",
       "        vertical-align: middle;\n",
       "    }\n",
       "\n",
       "    .dataframe tbody tr th {\n",
       "        vertical-align: top;\n",
       "    }\n",
       "\n",
       "    .dataframe thead th {\n",
       "        text-align: right;\n",
       "    }\n",
       "</style>\n",
       "<table border=\"1\" class=\"dataframe\">\n",
       "  <thead>\n",
       "    <tr style=\"text-align: right;\">\n",
       "      <th></th>\n",
       "      <th>step</th>\n",
       "      <th>amount</th>\n",
       "      <th>oldbalanceOrg</th>\n",
       "      <th>newbalanceOrig</th>\n",
       "      <th>oldbalanceDest</th>\n",
       "      <th>newbalanceDest</th>\n",
       "      <th>isFlaggedFraud</th>\n",
       "      <th>CASH_OUT</th>\n",
       "      <th>DEBIT</th>\n",
       "      <th>PAYMENT</th>\n",
       "      <th>TRANSFER</th>\n",
       "      <th>M</th>\n",
       "    </tr>\n",
       "  </thead>\n",
       "  <tbody>\n",
       "    <tr>\n",
       "      <th>0</th>\n",
       "      <td>-1.420090</td>\n",
       "      <td>0.512982</td>\n",
       "      <td>-0.284858</td>\n",
       "      <td>-0.294074</td>\n",
       "      <td>-0.235210</td>\n",
       "      <td>-0.114394</td>\n",
       "      <td>-0.003546</td>\n",
       "      <td>-0.735435</td>\n",
       "      <td>-0.082217</td>\n",
       "      <td>-0.714746</td>\n",
       "      <td>3.313410</td>\n",
       "      <td>-0.714746</td>\n",
       "    </tr>\n",
       "    <tr>\n",
       "      <th>1</th>\n",
       "      <td>0.225614</td>\n",
       "      <td>-0.272270</td>\n",
       "      <td>-0.290308</td>\n",
       "      <td>-0.294074</td>\n",
       "      <td>-0.327872</td>\n",
       "      <td>-0.334650</td>\n",
       "      <td>-0.003546</td>\n",
       "      <td>-0.735435</td>\n",
       "      <td>-0.082217</td>\n",
       "      <td>1.399099</td>\n",
       "      <td>-0.301804</td>\n",
       "      <td>1.399099</td>\n",
       "    </tr>\n",
       "    <tr>\n",
       "      <th>2</th>\n",
       "      <td>-0.773061</td>\n",
       "      <td>0.119532</td>\n",
       "      <td>-0.290308</td>\n",
       "      <td>-0.294074</td>\n",
       "      <td>0.313294</td>\n",
       "      <td>0.240329</td>\n",
       "      <td>-0.003546</td>\n",
       "      <td>1.359739</td>\n",
       "      <td>-0.082217</td>\n",
       "      <td>-0.714746</td>\n",
       "      <td>-0.301804</td>\n",
       "      <td>-0.714746</td>\n",
       "    </tr>\n",
       "    <tr>\n",
       "      <th>3</th>\n",
       "      <td>-0.555040</td>\n",
       "      <td>-0.080391</td>\n",
       "      <td>-0.290308</td>\n",
       "      <td>-0.294074</td>\n",
       "      <td>0.133494</td>\n",
       "      <td>0.124378</td>\n",
       "      <td>-0.003546</td>\n",
       "      <td>1.359739</td>\n",
       "      <td>-0.082217</td>\n",
       "      <td>-0.714746</td>\n",
       "      <td>-0.301804</td>\n",
       "      <td>-0.714746</td>\n",
       "    </tr>\n",
       "    <tr>\n",
       "      <th>4</th>\n",
       "      <td>-1.427123</td>\n",
       "      <td>-0.282712</td>\n",
       "      <td>-0.162385</td>\n",
       "      <td>-0.168876</td>\n",
       "      <td>-0.327872</td>\n",
       "      <td>-0.334650</td>\n",
       "      <td>-0.003546</td>\n",
       "      <td>-0.735435</td>\n",
       "      <td>-0.082217</td>\n",
       "      <td>1.399099</td>\n",
       "      <td>-0.301804</td>\n",
       "      <td>1.399099</td>\n",
       "    </tr>\n",
       "  </tbody>\n",
       "</table>\n",
       "</div>"
      ],
      "text/plain": [
       "       step    amount  oldbalanceOrg  newbalanceOrig  oldbalanceDest  \\\n",
       "0 -1.420090  0.512982      -0.284858       -0.294074       -0.235210   \n",
       "1  0.225614 -0.272270      -0.290308       -0.294074       -0.327872   \n",
       "2 -0.773061  0.119532      -0.290308       -0.294074        0.313294   \n",
       "3 -0.555040 -0.080391      -0.290308       -0.294074        0.133494   \n",
       "4 -1.427123 -0.282712      -0.162385       -0.168876       -0.327872   \n",
       "\n",
       "   newbalanceDest  isFlaggedFraud  CASH_OUT     DEBIT   PAYMENT  TRANSFER  \\\n",
       "0       -0.114394       -0.003546 -0.735435 -0.082217 -0.714746  3.313410   \n",
       "1       -0.334650       -0.003546 -0.735435 -0.082217  1.399099 -0.301804   \n",
       "2        0.240329       -0.003546  1.359739 -0.082217 -0.714746 -0.301804   \n",
       "3        0.124378       -0.003546  1.359739 -0.082217 -0.714746 -0.301804   \n",
       "4       -0.334650       -0.003546 -0.735435 -0.082217  1.399099 -0.301804   \n",
       "\n",
       "          M  \n",
       "0 -0.714746  \n",
       "1  1.399099  \n",
       "2 -0.714746  \n",
       "3 -0.714746  \n",
       "4  1.399099  "
      ]
     },
     "execution_count": 21,
     "metadata": {},
     "output_type": "execute_result"
    }
   ],
   "source": [
    "train_set=NumericalDataset.drop(\"isFraud\", axis=1)\n",
    "scaler = preprocessing.StandardScaler().fit(train_set)\n",
    "train_data = pd.DataFrame(scaler.transform(train_set),columns=train_set.columns)\n",
    "#dataset_scaled\n",
    "#train_data=dataset_scaled\n",
    "test_data=NumericalDataset[\"isFraud\"]\n",
    "train_data.head()"
   ]
  },
  {
   "cell_type": "code",
   "execution_count": 22,
   "metadata": {},
   "outputs": [
    {
     "name": "stdout",
     "output_type": "stream",
     "text": [
      "New Dimension of Train_data after PCA:  11\n"
     ]
    }
   ],
   "source": [
    "from sklearn.decomposition import PCA\n",
    "pca = PCA(n_components=\"mle\", whiten=True,svd_solver =\"full\").fit(train_data)\n",
    "train_data=pca.transform(train_data)\n",
    "print(\"New Dimension of Train_data after PCA: \", len(train_data[0]))\n"
   ]
  },
  {
   "cell_type": "markdown",
   "metadata": {},
   "source": [
    "## CREATE THE MODEL"
   ]
  },
  {
   "cell_type": "markdown",
   "metadata": {},
   "source": [
    "# 1- Poly Kernel"
   ]
  },
  {
   "cell_type": "code",
   "execution_count": 23,
   "metadata": {},
   "outputs": [],
   "source": [
    "def plot(recall_folds,penalty,degree):\n",
    "    plt.figure()\n",
    "    plt.plot(range(1,len(recall_folds)+1),recall_folds)\n",
    "    plt.ylabel(\"Recall\")\n",
    "    plt.xlabel(\"Folds\")\n",
    "    plt.title(\"Polynomial degree: \"+ str(degree) + \", Regularization (C) = \"+ str(penalty))"
   ]
  },
  {
   "cell_type": "raw",
   "metadata": {},
   "source": [
    "A smaller value of C creates a small-margin hyperplane and a larger value of C creates a larger-margin hyperplane."
   ]
  },
  {
   "cell_type": "code",
   "execution_count": 24,
   "metadata": {},
   "outputs": [],
   "source": [
    "def regularization(best_Xtrain_model,best_Ytrain_model,best_Xcross_model,best_Ycross_model,i):\n",
    "    c=np.linspace(0.5, 1.0, num=15)\n",
    "    max_Recall=[]\n",
    "    for z in c:\n",
    "            model = SVC(kernel='poly', C=z, degree=i)\n",
    "            model.fit(best_Xtrain_model,best_Ytrain_model)\n",
    "            y_pred_cross=model.predict(best_Xcross_model)\n",
    "            precision,recall,fscore,support=score(best_Ycross_model,y_pred_cross,average='macro')\n",
    "            max_Recall.append(recall)\n",
    "    best_parameter=c[max_Recall.index(max(max_Recall))]\n",
    "    best_recall=max(max_Recall)\n",
    "    return best_recall,best_parameter"
   ]
  },
  {
   "cell_type": "raw",
   "metadata": {},
   "source": [
    "Apply StratifiedKFold to create different models while maintaining the characteristics of the data\n",
    "Test Accuracy of the model by calculation Recall = TP/(TP+FN), the highest the better"
   ]
  },
  {
   "cell_type": "code",
   "execution_count": 25,
   "metadata": {},
   "outputs": [],
   "source": [
    "def SVM():\n",
    "    X_train_cross, X_test, y_train_cross, y_test = train_test_split(train_data,np.array(test_data),\n",
    "                                                        test_size=0.25,stratify=test_data)\n",
    "\n",
    "    print(len(X_train_cross))\n",
    " \n",
    "    #cv = KFold(n_splits=5,shuffle=True)\n",
    "    cv=StratifiedKFold(n_splits=5,shuffle=True)\n",
    "    # create model\n",
    "    max_recall=0\n",
    "    cross_err_poly=[]\n",
    "    penalties=[]\n",
    "    for i in range(1,6):\n",
    "        #print(\"degree= \", i)\n",
    "        #cross_err_poly=[]\n",
    "        recall_folds=[]\n",
    "        z=0\n",
    "        #for train_index, test_index in cv.split(X_train_cross):\n",
    "        for train_index, test_index in cv.split(X_train_cross,y_train_cross):\n",
    "            #print(\"count=\", z)\n",
    "            z+=1\n",
    "            X_train, X_cross = X_train_cross[train_index], X_train_cross[test_index]\n",
    "            y_train, y_cross = y_train_cross[train_index], y_train_cross[test_index]\n",
    "            \n",
    "            model = SVC(kernel='poly', degree=i)\n",
    "            model.fit(X_train, y_train)\n",
    "            #print(\"TRAIN:\", train_index, \"TEST:\", test_index)\n",
    "\n",
    "            y_pred_cross=model.predict(X_cross)\n",
    "            y_pred_train=model.predict(X_train)\n",
    "          \n",
    "            precision,recall,fscore,support=score(y_cross,y_pred_cross,average='macro')\n",
    "            recall_folds.append(recall)\n",
    "\n",
    "            if recall>max_recall:\n",
    "                max_recall=recall\n",
    "                best_Xtrain_model=X_train\n",
    "                best_Ytrain_model=y_train\n",
    "                best_Xcross_model=X_cross\n",
    "                best_Ycross_model=y_cross\n",
    "            \n",
    "        max_recall,penalty=regularization(best_Xtrain_model,best_Ytrain_model,best_Xcross_model,best_Ycross_model,i)\n",
    "        cross_err_poly.append(max_recall)\n",
    "        penalties.append(penalty)\n",
    "        \n",
    "        plot( recall_folds,penalty,i)\n",
    "        \n",
    "    Max_Recall= max(cross_err_poly)  \n",
    "    Best_polynomial_degree= cross_err_poly.index(max(cross_err_poly))+1\n",
    "    Best_penalty=penalties[cross_err_poly.index(max(cross_err_poly))]\n",
    "    return Best_polynomial_degree,Max_Recall,Best_penalty,best_Xtrain_model,best_Ytrain_model,X_test,y_test\n",
    "\n",
    "    \n",
    "    "
   ]
  },
  {
   "cell_type": "markdown",
   "metadata": {},
   "source": [
    "# Cross Validation Recall"
   ]
  },
  {
   "cell_type": "code",
   "execution_count": 26,
   "metadata": {
    "scrolled": true
   },
   "outputs": [
    {
     "name": "stdout",
     "output_type": "stream",
     "text": [
      "119298\n"
     ]
    },
    {
     "data": {
      "image/png": "[encoded data removed]",
      "text/plain": [
       "<Figure size 432x288 with 1 Axes>"
      ]
     },
     "metadata": {
      "needs_background": "light"
     },
     "output_type": "display_data"
    },
    {
     "data": {
      "image/png": "[encoded data removed]",
      "text/plain": [
       "<Figure size 432x288 with 1 Axes>"
      ]
     },
     "metadata": {
      "needs_background": "light"
     },
     "output_type": "display_data"
    },
    {
     "data": {
      "image/png": "[encoded data removed]",
      "text/plain": [
       "<Figure size 432x288 with 1 Axes>"
      ]
     },
     "metadata": {
      "needs_background": "light"
     },
     "output_type": "display_data"
    },
    {
     "data": {
      "image/png": "[encoded data removed]",
      "text/plain": [
       "<Figure size 432x288 with 1 Axes>"
      ]
     },
     "metadata": {
      "needs_background": "light"
     },
     "output_type": "display_data"
    },
    {
     "data": {
      "image/png": "[encoded data removed]",
      "text/plain": [
       "<Figure size 432x288 with 1 Axes>"
      ]
     },
     "metadata": {
      "needs_background": "light"
     },
     "output_type": "display_data"
    }
   ],
   "source": [
    "Best_polynomial_degree,MaxRecall,penalty,best_Xtrain_model,best_Ytrain_model,X_test,y_test=SVM()\n"
   ]
  },
  {
   "cell_type": "code",
   "execution_count": 27,
   "metadata": {},
   "outputs": [
    {
     "name": "stdout",
     "output_type": "stream",
     "text": [
      "Best polynomial degree: 5, with recall = 0.8709677419354839, at reg c= 0.5\n"
     ]
    }
   ],
   "source": [
    "print(\"Best polynomial degree: \" + str(Best_polynomial_degree) + \", with recall = \" + str(MaxRecall)  + \", at reg c= \" + str(penalty))"
   ]
  },
  {
   "cell_type": "markdown",
   "metadata": {},
   "source": [
    "# Test Model with the test data"
   ]
  },
  {
   "cell_type": "code",
   "execution_count": 28,
   "metadata": {},
   "outputs": [],
   "source": [
    "def test(Best_polynomial_degree,penalty,best_Xtrain_model,best_Ytrain_model, X_test,y_test):\n",
    "    model = SVC(kernel='poly', degree=Best_polynomial_degree, C=penalty)\n",
    "    model.fit(best_Xtrain_model,best_Ytrain_model)\n",
    "    y_pred_test=model.predict(X_test)\n",
    "    precision,recall,fscore,support=score(y_test,y_pred_test,average='macro')\n",
    "    #print(\"hi\", y_test.sum())\n",
    "    return recall\n",
    "\n",
    "    "
   ]
  },
  {
   "cell_type": "code",
   "execution_count": 30,
   "metadata": {
    "scrolled": true
   },
   "outputs": [
    {
     "name": "stdout",
     "output_type": "stream",
     "text": [
      "Recall of test data= 0.7843011361055652\n"
     ]
    }
   ],
   "source": [
    "recall_test=test(Best_polynomial_degree,penalty,best_Xtrain_model,best_Ytrain_model, X_test,y_test)\n",
    "print(\"Recall of test data= \" + str(recall_test))"
   ]
  },
  {
   "cell_type": "code",
   "execution_count": null,
   "metadata": {},
   "outputs": [],
   "source": [
    "#print(classification_report(y_train,y_pred_train))\n",
    "#penalty=[\"l1\", \"l2\", \"elasticnet\", \"none\"]"
   ]
  },
  {
   "cell_type": "markdown",
   "metadata": {},
   "source": [
    "# 2-  Aplly kernels: linear, sigmoid, rbf"
   ]
  },
  {
   "cell_type": "code",
   "execution_count": 31,
   "metadata": {},
   "outputs": [],
   "source": [
    "def RegularizationKernels(best_Xtrain_model,best_Ytrain_model,best_Xcross_model,best_Ycross_model,i):\n",
    "    c=np.linspace(0.6, 1.0, num=20)\n",
    "    max_Recall=[]\n",
    "    for z in c:\n",
    "            model = SVC(kernel=i, C=z)\n",
    "            model.fit(best_Xtrain_model,best_Ytrain_model)\n",
    "            y_pred_cross=model.predict(best_Xcross_model)\n",
    "            precision,recall,fscore,support=score(best_Ycross_model,y_pred_cross,average='macro')\n",
    "            max_Recall.append(recall)\n",
    "    best_parameter=c[max_Recall.index(max(max_Recall))]\n",
    "    best_recall=max(max_Recall)\n",
    "    return best_recall,best_parameter"
   ]
  },
  {
   "cell_type": "code",
   "execution_count": 32,
   "metadata": {},
   "outputs": [],
   "source": [
    "def plotKernel(recall_folds,penalty,kernel):\n",
    "    plt.figure()\n",
    "    plt.plot(range(1,len(recall_folds)+1),recall_folds)\n",
    "    plt.ylabel(\"Recall\")\n",
    "    plt.xlabel(\"Folds\")\n",
    "    plt.title(\"Kernel: \"+ kernel + \", Regularization (C) = \"+ str(penalty))"
   ]
  },
  {
   "cell_type": "code",
   "execution_count": 33,
   "metadata": {},
   "outputs": [],
   "source": [
    "def SVM_Kernels():\n",
    "    X_train_cross, X_test, y_train_cross, y_test = train_test_split(train_data,np.array(test_data),\n",
    "                                                        test_size=0.2,stratify=test_data)\n",
    "\n",
    "\n",
    "    kernels=['linear','sigmoid','rbf'] \n",
    "    #cv =KFold(n_splits=5,shuffle=True)\n",
    "    cv =StratifiedKFold(n_splits=5,shuffle=True)\n",
    "    # create model\n",
    "    max_recall=0\n",
    "    cross_err_kernels=[]\n",
    "    penalties=[]\n",
    "    for i in kernels:\n",
    "        \n",
    "        #cross_err_poly=[]\n",
    "        recall_folds=[]\n",
    "        z=0\n",
    "        #for train_index, test_index in cv.split(X_train_cross):\n",
    "        for train_index, test_index in cv.split(X_train_cross,y_train_cross):\n",
    "           # print(\"count=\", z)\n",
    "            z+=1\n",
    "            X_train, X_cross = X_train_cross[train_index], X_train_cross[test_index]\n",
    "            y_train, y_cross = y_train_cross[train_index], y_train_cross[test_index]\n",
    "            \n",
    "            model = SVC(kernel=i)\n",
    "            model.fit(X_train, y_train)\n",
    "            #print(\"TRAIN:\", train_index, \"TEST:\", test_index)\n",
    "\n",
    "            y_pred_cross=model.predict(X_cross)\n",
    "            #y_pred_train=model.predict(X_train)\n",
    "          \n",
    "            precision,recall,fscore,support=score(y_cross,y_pred_cross,average='macro')\n",
    "\n",
    "            recall_folds.append(recall)\n",
    "\n",
    "            if recall>max_recall:\n",
    "                max_recall=recall\n",
    "                best_Xtrain_model=X_train\n",
    "                best_Ytrain_model=y_train\n",
    "                best_Xcross_model=X_cross\n",
    "                best_Ycross_model=y_cross\n",
    "            \n",
    "        max_recall,penalty=RegularizationKernels(best_Xtrain_model,best_Ytrain_model,best_Xcross_model,best_Ycross_model,i)\n",
    "        cross_err_kernels.append(max_recall)\n",
    "        penalties.append(penalty)\n",
    "        \n",
    "        plotKernel( recall_folds,penalty,i)\n",
    "        \n",
    "    Max_Recall=max(cross_err_kernels)\n",
    "    Best_Kernel= kernels[cross_err_kernels.index(max(cross_err_kernels))]\n",
    "    Best_penalty=penalties[cross_err_kernels.index(max(cross_err_kernels))]\n",
    "    return Best_Kernel,Max_Recall,Best_penalty,best_Xtrain_model,best_Ytrain_model,X_test,y_test\n"
   ]
  },
  {
   "cell_type": "markdown",
   "metadata": {},
   "source": [
    "# Cross Validation recall"
   ]
  },
  {
   "cell_type": "code",
   "execution_count": 34,
   "metadata": {
    "scrolled": true
   },
   "outputs": [
    {
     "data": {
      "image/png": "[encoded data removed]",
      "text/plain": [
       "<Figure size 432x288 with 1 Axes>"
      ]
     },
     "metadata": {
      "needs_background": "light"
     },
     "output_type": "display_data"
    },
    {
     "data": {
      "image/png": "[encoded data removed]",
      "text/plain": [
       "<Figure size 432x288 with 1 Axes>"
      ]
     },
     "metadata": {
      "needs_background": "light"
     },
     "output_type": "display_data"
    },
    {
     "data": {
      "image/png": "[encoded data removed]",
      "text/plain": [
       "<Figure size 432x288 with 1 Axes>"
      ]
     },
     "metadata": {
      "needs_background": "light"
     },
     "output_type": "display_data"
    }
   ],
   "source": [
    "Best_Kernel,MaxRecall,penalty,best_Xtrain_model,best_Ytrain_model,X_test,y_test=SVM_Kernels()"
   ]
  },
  {
   "cell_type": "code",
   "execution_count": 35,
   "metadata": {},
   "outputs": [
    {
     "name": "stdout",
     "output_type": "stream",
     "text": [
      "Best Kernel: rbf, with recall = 0.7424242424242424, at reg c= 0.9789473684210526\n"
     ]
    }
   ],
   "source": [
    "Best_Kernel,MaxRecall,penalty\n",
    "\n",
    "print(\"Best Kernel: \" + Best_Kernel + \", with recall = \" + str(MaxRecall)  + \", at reg c= \" + str(penalty))\n",
    "\n",
    "\n"
   ]
  },
  {
   "cell_type": "markdown",
   "metadata": {},
   "source": [
    "# Test the Model"
   ]
  },
  {
   "cell_type": "code",
   "execution_count": 36,
   "metadata": {},
   "outputs": [],
   "source": [
    "def testKernels(Best_Kernel,penalty,best_Xtrain_model,best_Ytrain_model, X_test,y_test):\n",
    "    model = SVC(kernel= Best_Kernel, C=penalty)\n",
    "    model.fit(best_Xtrain_model,best_Ytrain_model)\n",
    "    y_pred_test=model.predict(X_test)\n",
    "    precision,recall,fscore,support=score(y_test,y_pred_test,average='macro')\n",
    "    #print(\"hi\", y_test.sum())\n",
    "    return recall\n"
   ]
  },
  {
   "cell_type": "code",
   "execution_count": 38,
   "metadata": {},
   "outputs": [
    {
     "name": "stdout",
     "output_type": "stream",
     "text": [
      "Recall of test data= 0.6829268292682926\n"
     ]
    }
   ],
   "source": [
    "recall_test=testKernels(Best_Kernel,penalty,best_Xtrain_model,best_Ytrain_model, X_test,y_test)\n",
    "print(\"Recall of test data= \" + str(recall_test))"
   ]
  },
  {
   "cell_type": "markdown",
   "metadata": {},
   "source": [
    "# Conclusion"
   ]
  },
  {
   "cell_type": "raw",
   "metadata": {},
   "source": [
    "Polynomial kernel degree 5 at c= 0.5 are the best parameters to predict the fraud transactions of this dataset as it gives the best recall value (0.78)."
   ]
  },
  {
   "cell_type": "code",
   "execution_count": null,
   "metadata": {},
   "outputs": [],
   "source": []
  }
 ],
 "metadata": {
  "kernelspec": {
   "display_name": "Python 3",
   "language": "python",
   "name": "python3"
  },
  "language_info": {
   "codemirror_mode": {
    "name": "ipython",
    "version": 3
   },
   "file_extension": ".py",
   "mimetype": "text/x-python",
   "name": "python",
   "nbconvert_exporter": "python",
   "pygments_lexer": "ipython3",
   "version": "3.7.6"
  }
 },
 "nbformat": 4,
 "nbformat_minor": 4
}
